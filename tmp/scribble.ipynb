{
 "cells": [
  {
   "cell_type": "code",
   "execution_count": 1,
   "metadata": {},
   "outputs": [],
   "source": [
    "import ipynbname\n",
    "import os, sys\n",
    "\n",
    "notebook_path = ipynbname.path()\n",
    "notebook_dir = os.path.dirname(notebook_path)\n",
    "ROOT_PATH = os.path.abspath(os.path.join(notebook_dir, '..'))\n",
    "sys.path.insert(0, os.path.join(ROOT_PATH))"
   ]
  },
  {
   "cell_type": "code",
   "execution_count": 2,
   "metadata": {},
   "outputs": [
    {
     "name": "stdout",
     "output_type": "stream",
     "text": [
      "GCTA Python v0.1.0 initialized\n"
     ]
    }
   ],
   "source": [
    "from gcta import GCTA\n",
    "gcta = GCTA()"
   ]
  },
  {
   "cell_type": "code",
   "execution_count": null,
   "metadata": {},
   "outputs": [
    {
     "name": "stdout",
     "output_type": "stream",
     "text": [
      "> Load PLINK files\n",
      "|   Loaded 3900 samples and 985 SNPs\n"
     ]
    }
   ],
   "source": [
    "gcta._load_plink_files(\n",
    "    bfile=f\"{ROOT_PATH}/test/bfile/test.majref\",)\n",
    "\n"
   ]
  },
  {
   "cell_type": "code",
   "execution_count": 13,
   "metadata": {},
   "outputs": [
    {
     "data": {
      "text/plain": [
       "array([[0, 0, 0, ..., 0, 0, 0],\n",
       "       [0, 0, 0, ..., 1, 0, 1],\n",
       "       [1, 1, 1, ..., 1, 1, 1],\n",
       "       ...,\n",
       "       [1, 0, 0, ..., 0, 0, 0],\n",
       "       [0, 0, 0, ..., 0, 0, 0],\n",
       "       [0, 0, 0, ..., 0, 0, 0]], dtype=int8)"
      ]
     },
     "execution_count": 13,
     "metadata": {},
     "output_type": "execute_result"
    }
   ],
   "source": [
    "from gcta.core.data_io import load_bed, load_afreq\n",
    "g = load_bed(\n",
    "    f\"{ROOT_PATH}/test/bfile/test.majref.bed\", \n",
    "    n_samples=3900, \n",
    "    n_snps=985)\n",
    "\n",
    "afreq = load_afreq(f\"{ROOT_PATH}/test/bfile/test.majref.afreq\")\n",
    "g"
   ]
  },
  {
   "cell_type": "code",
   "execution_count": 14,
   "metadata": {},
   "outputs": [
    {
     "data": {
      "text/plain": [
       "(3900, 985)"
      ]
     },
     "execution_count": 14,
     "metadata": {},
     "output_type": "execute_result"
    }
   ],
   "source": [
    "g.shape"
   ]
  },
  {
   "cell_type": "code",
   "execution_count": 27,
   "metadata": {},
   "outputs": [],
   "source": [
    "from gcta.analysis.grm import std_indicator\n",
    "het_std, hom_std = std_indicator(g, afreq[\"ALT_FREQS\"].to_numpy())"
   ]
  },
  {
   "cell_type": "code",
   "execution_count": 49,
   "metadata": {},
   "outputs": [],
   "source": [
    "# beta\n",
    "import numpy as np\n",
    "betas = np.random.multivariate_normal(\n",
    "    mean=[0, 0], \n",
    "    cov=[[0.1/985, 0.1/985], [0.1/985, 0.4/985]], \n",
    "    size=985\n",
    ")\n"
   ]
  },
  {
   "cell_type": "code",
   "execution_count": 51,
   "metadata": {},
   "outputs": [],
   "source": [
    "p = het_std @ betas[:, 0] + hom_std @ betas[:, 1] + np.random.normal(0, 0.5, size=3900)\n",
    "p = (p - np.mean(p)) / np.std(p)"
   ]
  },
  {
   "cell_type": "code",
   "execution_count": 52,
   "metadata": {},
   "outputs": [],
   "source": [
    "df_p = gcta.FAM.copy()\n",
    "df_p[\"pheno\"] = p\n",
    "\n",
    "df_p[[\"FID\", \"IID\", \"pheno\"]].to_csv(\n",
    "    f\"{ROOT_PATH}/test/test.pheno\", \n",
    "    sep=\"\\t\", \n",
    "    header=False, \n",
    "    index=False\n",
    ")"
   ]
  },
  {
   "cell_type": "code",
   "execution_count": null,
   "metadata": {},
   "outputs": [],
   "source": []
  }
 ],
 "metadata": {
  "kernelspec": {
   "display_name": "pygcta",
   "language": "python",
   "name": "python3"
  },
  "language_info": {
   "codemirror_mode": {
    "name": "ipython",
    "version": 3
   },
   "file_extension": ".py",
   "mimetype": "text/x-python",
   "name": "python",
   "nbconvert_exporter": "python",
   "pygments_lexer": "ipython3",
   "version": "3.9.23"
  }
 },
 "nbformat": 4,
 "nbformat_minor": 2
}
